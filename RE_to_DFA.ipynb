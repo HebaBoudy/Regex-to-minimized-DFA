{
 "cells": [
  {
   "cell_type": "code",
   "execution_count": 51,
   "metadata": {},
   "outputs": [
    {
     "name": "stdout",
     "output_type": "stream",
     "text": [
      "a(a|b)*b\n",
      "a?(a|b)*b^\n"
     ]
    }
   ],
   "source": [
    "import re \n",
    "#input= 'a?a((cd)|(a|b))b+bb'\n",
    "input = 'a(a|b)*b'\n",
    "removed_zero_or_one_symbol = re.sub(r'(\\w)\\?', r'(\\1|)', input)\n",
    "removed_one_or_more_symbol = re.sub(r'(\\w)\\+', r'\\1\\1*', removed_zero_or_one_symbol)\n",
    "#TODO : store $  in the dict and replace with the value\n",
    "#TODO : Add $ to the alpha numeric in the forloop\n",
    "#TODO : question : ask about the dot operator .\n",
    "removed_match_brackets = re.sub(r'\\[.*\\]', r'$', removed_one_or_more_symbol) # for now one match \n",
    "print(removed_match_brackets) \n",
    "removed_match_brackets = removed_match_brackets + '^'\n",
    "i = 0\n",
    "while (1):\n",
    "    if ( removed_match_brackets [i] == '^' ) : break\n",
    "    if  ( removed_match_brackets[i+1].isalnum() or removed_match_brackets[i+1] == '(')  and ( removed_match_brackets[i].isalnum() or removed_match_brackets[i] == ')' ) :\n",
    "        removed_match_brackets = removed_match_brackets[:i+1] + '?' + removed_match_brackets[i+1:]\n",
    "    i = i + 1\n",
    "print (removed_match_brackets)\n",
    "input = removed_match_brackets\n"
   ]
  },
  {
   "cell_type": "code",
   "execution_count": null,
   "metadata": {},
   "outputs": [
    {
     "name": "stdout",
     "output_type": "stream",
     "text": [
      "parsing char : a output: ['a'] stack []\n",
      "************************\n",
      "parsing char : ? output: ['a'] stack ['?']\n",
      "************************\n",
      "parsing char : ( output: ['a'] stack ['?', '(']\n",
      "************************\n",
      "parsing char : a output: ['a', 'a'] stack ['?', '(']\n",
      "************************\n",
      "parsing char : | output: ['a', 'a'] stack ['?', '(', '|']\n",
      "************************\n",
      "parsing char : b output: ['a', 'a', 'b'] stack ['?', '(', '|']\n",
      "************************\n",
      "parsing char : ) output: ['a', 'a', 'b', '|'] stack ['?']\n",
      "************************\n",
      "parsing char : * output: ['a', 'a', 'b', '|'] stack ['?', '*']\n",
      "************************\n",
      "parsing char : ? output: ['a', 'a', 'b', '|', '*', '?'] stack ['?']\n",
      "************************\n",
      "parsing char : b output: ['a', 'a', 'b', '|', '*', '?', 'b'] stack ['?']\n",
      "************************\n",
      "parsing char : ^ output: ['a', 'a', 'b', '|', '*', '?', 'b'] stack ['?']\n",
      "************************\n"
     ]
    }
   ],
   "source": [
    "\n",
    "precedence_dict = {'*': 3, '?': 2, '|': 1}\n",
    "out =[]\n",
    "operator_stack = []\n",
    "input = 'a?(a|b)*?b^'\n",
    "for char in input :\n",
    "    if char.isalnum() :\n",
    "        out.append(char)\n",
    "    elif  char in precedence_dict.keys() :\n",
    "        if len(operator_stack) == 0:\n",
    "            operator_stack.append(char)\n",
    "        elif operator_stack[-1] =='('or precedence_dict[ operator_stack[-1] ] < precedence_dict[char] :\n",
    "            operator_stack.append(char)\n",
    "        elif operator_stack[-1] != '(' and precedence_dict[ operator_stack[-1] ] == precedence_dict[char] : \n",
    "            out.append(char)\n",
    "        else :\n",
    "            while (len(operator_stack)>0 and operator_stack[-1] != '('and precedence_dict[ operator_stack[-1] ]  >= precedence_dict[char]) :\n",
    "                popped_operator = operator_stack.pop()\n",
    "                out.append(popped_operator)\n",
    "            operator_stack.append(char) \n",
    "    elif char == '(' :\n",
    "        operator_stack.append(char)\n",
    "\n",
    "    elif char == ')' :\n",
    "       \n",
    "        while operator_stack:\n",
    "            operator = operator_stack.pop()\n",
    "            if operator == '(':\n",
    "                break\n",
    "            out.append(operator)\n",
    "    print (\"parsing char :\",char,\"output:\",out,\"stack\",operator_stack)\n",
    "    print(\"************************\")\n"
   ]
  }
 ],
 "metadata": {
  "kernelspec": {
   "display_name": "Python 3",
   "language": "python",
   "name": "python3"
  },
  "language_info": {
   "codemirror_mode": {
    "name": "ipython",
    "version": 3
   },
   "file_extension": ".py",
   "mimetype": "text/x-python",
   "name": "python",
   "nbconvert_exporter": "python",
   "pygments_lexer": "ipython3",
   "version": "3.8.2"
  }
 },
 "nbformat": 4,
 "nbformat_minor": 2
}
