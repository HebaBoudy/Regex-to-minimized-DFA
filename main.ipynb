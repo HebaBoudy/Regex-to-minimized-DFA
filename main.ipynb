{
 "cells": [
  {
   "cell_type": "code",
   "execution_count": 1,
   "metadata": {},
   "outputs": [
    {
     "name": "stdout",
     "output_type": "stream",
     "text": [
      "['[1-9]', '|', '(', '[1-9]', '?', '[0-9]', ')', '|', '(', '1', '?', '[0-9]', '?', '[0-9]', ')', '|', '(', '2', '?', '[0-4]', '?', '[0-9]', ')', '|', '(', '2', '?', '5', '?', '[0-5]', ')']\n",
      "shunting_yard ['[1-9]', '[1-9]', '[0-9]', '?', '|', '1', '[0-9]', '?', '[0-9]', '?', '|', '2', '[0-4]', '?', '[0-9]', '?', '|', '2', '5', '?', '[0-5]', '?', '|']\n",
      "input ['[1-9]', '[1-9]', '[0-9]', '?', '|', '1', '[0-9]', '?', '[0-9]', '?', '|', '2', '[0-4]', '?', '[0-9]', '?', '|', '2', '5', '?', '[0-5]', '?', '|']\n",
      "char [1-9]\n",
      "char [1-9]\n",
      "char [0-9]\n",
      "char ?\n",
      "char |\n",
      "char 1\n",
      "char [0-9]\n",
      "char ?\n",
      "char [0-9]\n",
      "char ?\n",
      "char |\n",
      "char 2\n",
      "char [0-4]\n",
      "char ?\n",
      "char [0-9]\n",
      "char ?\n",
      "char |\n",
      "char 2\n",
      "char 5\n",
      "char ?\n",
      "char [0-5]\n",
      "char ?\n",
      "char |\n",
      "inside visualize : S1\n",
      "inside visualize : S1\n",
      "total groups before partinioning : 2\n",
      "Groups have stabilized, exiting.\n",
      "dfa start state {\n",
      "  \"isTerminatingState\": false,\n",
      "  \"[1-9]\": \"S2\",\n",
      "  \"2\": \"S3\",\n",
      "  \"1\": \"S4\"\n",
      "}\n",
      "inside visualize : S7\n"
     ]
    }
   ],
   "source": [
    "from Visualize import visualize \n",
    "from Preprocessing import validate_input \n",
    "from RegexToNFA import ThomsonsConstruction \n",
    "from NFAToDFA import subsetConstruction \n",
    "from MinimizeDFA import minimizeDFA\n",
    "\n",
    "\n",
    "\n",
    "def read_input_file(file_name):\n",
    "    with open(file_name) as f:\n",
    "        return f.read().strip()  \n",
    "\n",
    "# validate the input regex \n",
    "#TODO: lw d5lt () aw [] fl input el program byedrab \n",
    "regex = read_input_file(\"input.txt\") \n",
    "if not validate_input(regex):\n",
    "    print(\"Invalid regex\")\n",
    "else:\n",
    "\n",
    "    nfa = ThomsonsConstruction(regex) \n",
    "    # TODO : write the nfa to a file\n",
    "    with open(\"nfa.json\", \"w\") as f:\n",
    "        f.write(str(nfa))\n",
    "    visualize(nfa.to_dict(),'nfa')\n",
    "    dfa = subsetConstruction(nfa) \n",
    "    visualize(dfa.to_dict(),'dfa')\n",
    "    minimized_dfa = minimizeDFA(dfa)\n",
    "    # TODO : write the minimized dfa to a file\n",
    "    with open(\"dfa.json\", \"w\") as f:\n",
    "        f.write(str(minimized_dfa))\n",
    "    visualize(dfa.to_dict(),'minimized_dfa')\n",
    "\n",
    "\n"
   ]
  }
 ],
 "metadata": {
  "kernelspec": {
   "display_name": "Python 3",
   "language": "python",
   "name": "python3"
  },
  "language_info": {
   "codemirror_mode": {
    "name": "ipython",
    "version": 3
   },
   "file_extension": ".py",
   "mimetype": "text/x-python",
   "name": "python",
   "nbconvert_exporter": "python",
   "pygments_lexer": "ipython3",
   "version": "3.11.9"
  }
 },
 "nbformat": 4,
 "nbformat_minor": 2
}
