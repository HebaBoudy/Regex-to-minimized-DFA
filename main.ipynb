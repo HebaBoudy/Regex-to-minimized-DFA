{
 "cells": [
  {
   "cell_type": "code",
   "execution_count": null,
   "metadata": {},
   "outputs": [
    {
     "name": "stdout",
     "output_type": "stream",
     "text": [
      "inside visualize : S98\n"
     ]
    }
   ],
   "source": [
    "from Visualize import visualize \n",
    "from Preprocessing import validate_input \n",
    "from RegexToNFA import ThomsonsConstruction \n",
    "from NFAToDFA import subsetConstruction \n",
    "from MinimizeDFA import minimizeDFA\n",
    "\n",
    "\n",
    "def read_input_file(file_name):\n",
    "    with open(file_name) as f:\n",
    "        return f.read().strip()  \n",
    "\n",
    "# validate the input regex \n",
    "#TODO: lw d5lt () aw [] fl input el program byedrab \n",
    "regex = read_input_file(\"input.txt\") \n",
    "if not validate_input(regex):\n",
    "    print(\"Invalid regex\")\n",
    "    exit() \n",
    "# preprocess the regex \n",
    "\n",
    "nfa = ThomsonsConstruction(regex) \n",
    "# TODO : write the nfa to a file\n",
    "visualize(nfa.to_dict(),'nfa')\n",
    "dfa = subsetConstruction(nfa) \n",
    "visualize(dfa.to_dict(),'dfa')\n",
    "minimized_dfa = minimizeDFA(dfa)\n",
    "# TODO : write the minimized dfa to a file\n",
    "visualize(dfa.to_dict(),'minimized_dfa')\n",
    "\n",
    "\n"
   ]
  }
 ],
 "metadata": {
  "kernelspec": {
   "display_name": "Python 3",
   "language": "python",
   "name": "python3"
  },
  "language_info": {
   "codemirror_mode": {
    "name": "ipython",
    "version": 3
   },
   "file_extension": ".py",
   "mimetype": "text/x-python",
   "name": "python",
   "nbconvert_exporter": "python",
   "pygments_lexer": "ipython3",
   "version": "3.8.2"
  }
 },
 "nbformat": 4,
 "nbformat_minor": 2
}
