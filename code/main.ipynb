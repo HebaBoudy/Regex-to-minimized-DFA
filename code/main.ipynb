{
 "cells": [
  {
   "cell_type": "code",
   "execution_count": 1,
   "metadata": {},
   "outputs": [
    {
     "name": "stdout",
     "output_type": "stream",
     "text": [
      "Step 6: [A-Za-z]]*?[0-9]*\n",
      "Preprocessed input: ['[A-Za-z]', '[]', '*', '?', '[0-9]', '*']\n",
      "Shunting Yard :  ['[A-Za-z]', '[]', '*', '[0-9]', '*', '?']\n",
      "inside visualize : S1\n",
      "inside visualize : S1\n",
      "total groups before partinioning : 2\n",
      "Groups have stabilized, exiting.\n",
      "dfa start state {\n",
      "  \"isTerminatingState\": false,\n",
      "  \"[A-Za-z]\": \"S2\"\n",
      "}\n",
      "inside visualize : S2\n"
     ]
    }
   ],
   "source": [
    "from Utils import *\n",
    "from RegexToNFA import ThomsonsConstruction \n",
    "from NFAToDFA import subsetConstruction \n",
    "from MinimizeDFA import minimizeDFA\n",
    "\n",
    "\n",
    "regex = read_input_file(\"../testCases/input.txt\") \n",
    "\n",
    "if not validate_input(regex):\n",
    "    print(\"Invalid regex\")\n",
    "else :\n",
    "    nfa = ThomsonsConstruction(regex) \n",
    "    rename(nfa)\n",
    "    write_output_to_file('nfa.json', nfa)\n",
    "    visualize(nfa.to_dict(),'nfa')\n",
    "\n",
    "\n",
    "    dfa = subsetConstruction(nfa) \n",
    "    rename(dfa)\n",
    "    write_output_to_file('dfa.json', dfa)\n",
    "    visualize(dfa.to_dict(),'dfa')\n",
    "\n",
    "\n",
    "    minimized_dfa = minimizeDFA(dfa)\n",
    "    rename(minimized_dfa)\n",
    "    write_output_to_file('minimized_dfa.json', minimized_dfa)\n",
    "    visualize(dfa.to_dict(),'minimized_dfa')\n",
    "\n",
    "\n"
   ]
  },
  {
   "cell_type": "code",
   "execution_count": null,
   "metadata": {},
   "outputs": [],
   "source": []
  }
 ],
 "metadata": {
  "kernelspec": {
   "display_name": "Python 3",
   "language": "python",
   "name": "python3"
  },
  "language_info": {
   "codemirror_mode": {
    "name": "ipython",
    "version": 3
   },
   "file_extension": ".py",
   "mimetype": "text/x-python",
   "name": "python",
   "nbconvert_exporter": "python",
   "pygments_lexer": "ipython3",
   "version": "3.11.9"
  }
 },
 "nbformat": 4,
 "nbformat_minor": 2
}
